{
 "cells": [
  {
   "cell_type": "markdown",
   "metadata": {},
   "source": [
    "# Test a Perceptual Phenomenon\n",
    "### By Linn Olsson"
   ]
  },
  {
   "cell_type": "markdown",
   "metadata": {},
   "source": [
    "### Analyzing the Stroop Effect\n",
    "Perform the analysis in the space below. Remember to follow [the instructions](https://docs.google.com/document/d/1-OkpZLjG_kX9J6LIQ5IltsqMzVWjh36QpnP2RYpVdPU/pub?embedded=True) and review the [project rubric](https://review.udacity.com/#!/rubrics/71/view) before submitting. Once you've completed the analysis and write-up, download this file as a PDF or HTML file, upload that PDF/HTML into the workspace."
   ]
  },
  {
   "cell_type": "code",
   "execution_count": 1,
   "metadata": {},
   "outputs": [],
   "source": [
    "# Libraries\n",
    "import pandas as pd\n",
    "import matplotlib.pyplot as plt\n",
    "import numpy as np\n",
    "from scipy.stats import shapiro\n",
    "from scipy import stats"
   ]
  },
  {
   "cell_type": "code",
   "execution_count": 2,
   "metadata": {},
   "outputs": [
    {
     "name": "stdout",
     "output_type": "stream",
     "text": [
      "Stroopdata dataframe:\n",
      "    Congruent  Incongruent\n",
      "0      12.079       19.278\n",
      "1      16.791       18.741\n",
      "2       9.564       21.214\n",
      "3       8.630       15.687\n",
      "4      14.669       22.803\n",
      "5      12.238       20.878\n",
      "6      14.692       24.572\n",
      "7       8.987       17.394\n",
      "8       9.401       20.762\n",
      "9      14.480       26.282\n",
      "10     22.328       24.524\n",
      "11     15.298       18.644\n",
      "12     15.073       17.510\n",
      "13     16.929       20.330\n",
      "14     18.200       35.255\n",
      "15     12.130       22.158\n",
      "16     18.495       25.139\n",
      "17     10.639       20.429\n",
      "18     11.344       17.425\n",
      "19     12.369       34.288\n",
      "20     12.944       23.894\n",
      "21     14.233       17.960\n",
      "22     19.710       22.058\n",
      "23     16.004       21.157\n"
     ]
    }
   ],
   "source": [
    "# Import CSV file\n",
    "stroopdata = pd.read_csv('stroopdata.csv')\n",
    "\n",
    "# View data\n",
    "print(\"Stroopdata dataframe:\")\n",
    "print(stroopdata)"
   ]
  },
  {
   "cell_type": "markdown",
   "metadata": {},
   "source": [
    "**(1) What is the independent variable? What is the dependent variable?**"
   ]
  },
  {
   "cell_type": "markdown",
   "metadata": {},
   "source": [
    "Independent variable = words condition (congruent or incongruent)\n",
    "<br/>\n",
    "Dependent variable = time to complete test (in seconds)\n",
    "<br/>"
   ]
  },
  {
   "cell_type": "markdown",
   "metadata": {},
   "source": [
    "**(2) a) What is an appropriate set of hypotheses for this task? Specify your null and alternative hypotheses, and clearly define any notation used. b) What kind of statistical test do you expect to perform? Justify your choices.**"
   ]
  },
  {
   "cell_type": "markdown",
   "metadata": {},
   "source": [
    "a) Null-hypothesis, H0: Congruency does **not** effect time to complete test, there is no difference in the time it takes to complete the congruent or the incongruent words tests.\n",
    "\n",
    "Alternative hypothesis, HA: Congruency **does** effect time to complete test, it takes longer to complete the incongruent words test compared to the congruent words test.\n",
    "\n",
    "These hypotheses can be made more specific by comparing the mean (μ) time of the samples completing the congruent and incongruent words tests respectively. **'μ' stands for the population mean, 'c' represents the congruent words condition, and 'i' represents the incongruent words condition.**\n",
    "<br/>\n",
    "\n",
    "H0: μc = μi\n",
    "<br/>\n",
    "HA: μc < μi\n",
    "<br/>\n",
    "\n",
    "The **alpha** level, which is the degree of significance in which we accept or reject the null-hypothesis ([source](http://blog.minitab.com/blog/adventures-in-statistics-2/understanding-hypothesis-tests-significance-levels-alpha-and-p-values-in-statistics)), is set to 0.05. This means there is a 5% risk that a difference exists when there is no actual difference.\n",
    "<br/>\n",
    "\n",
    "This hypothesis test is chosen in an attempt to validate the Stroop Effect - a demonstration of interference in the reaction time of a task - which shows that naming the color of a word takes longer and is more prone to errors when the color of the ink is different to the name of the color ([source](https://en.wikipedia.org/wiki/Stroop_effect)). With this test, we want to determine if there is enough evidence in the sample data to conclude that it takes longer to complete an incongruent words test compared to a congruent words test for the whole population and not only for this sample.\n",
    "\n",
    "b) If the data is normally distributed (or has a non-normal distribution but is transformable) a parametric test is preferred to the alternative nonparametric test beacuse it usually has more statistical power ([source](http://blog.minitab.com/blog/adventures-in-statistics-2/choosing-between-a-nonparametric-test-and-a-parametric-test)).\n",
    "\n",
    "Since we want to validate existing research and already have some idea that the incongruent words test will take longer to complete, a **one-tailed dependent t-test** comparing the difference in means would be suitable. A two-tailed test would measure the probability of the relationship in two directions (incongruent words test takes shorter or longer to complete) and a one-tailed test only measures this in one direction of interest and provides more power to detect an effect in one direction by not testing the effect in the other direction ([source](https://stats.idre.ucla.edu/other/mult-pkg/faq/general/faq-what-are-the-differences-between-one-tailed-and-two-tailed-tests/)).\n",
    "<br/>\n",
    "\n",
    "A dependent t-test is used to measure the difference or change in means between two related groups, meaning that the same participants (24 participants in our sample data) are tested more than once on the same dependent variable (time to complete test) under two different conditions (congruent or incongruent words) ([source](https://statistics.laerd.com/statistical-guides/dependent-t-test-statistical-guide.php)). Using a dependent t-test for this test is suitable because (1) the dependent variable is continuous, (2) the independent variable consists of two categorical and related groups, and to be investigated; (3) there are no outliers in the data and (4) the data has an approximately normal distribution ([source](https://statistics.laerd.com/spss-tutorials/dependent-t-test-using-spss-statistics.php)).\n",
    "<br/>"
   ]
  },
  {
   "cell_type": "markdown",
   "metadata": {},
   "source": [
    "**(3) Report some descriptive statistics regarding this dataset. Include at least one measure of central tendency and at least one measure of variability. The name of the data file is 'stroopdata.csv'.**"
   ]
  },
  {
   "cell_type": "code",
   "execution_count": 3,
   "metadata": {},
   "outputs": [
    {
     "data": {
      "text/html": [
       "<div>\n",
       "<style>\n",
       "    .dataframe thead tr:only-child th {\n",
       "        text-align: right;\n",
       "    }\n",
       "\n",
       "    .dataframe thead th {\n",
       "        text-align: left;\n",
       "    }\n",
       "\n",
       "    .dataframe tbody tr th {\n",
       "        vertical-align: top;\n",
       "    }\n",
       "</style>\n",
       "<table border=\"1\" class=\"dataframe\">\n",
       "  <thead>\n",
       "    <tr style=\"text-align: right;\">\n",
       "      <th></th>\n",
       "      <th>Congruent</th>\n",
       "      <th>Incongruent</th>\n",
       "    </tr>\n",
       "  </thead>\n",
       "  <tbody>\n",
       "    <tr>\n",
       "      <th>count</th>\n",
       "      <td>24.000000</td>\n",
       "      <td>24.000000</td>\n",
       "    </tr>\n",
       "    <tr>\n",
       "      <th>mean</th>\n",
       "      <td>14.051125</td>\n",
       "      <td>22.015917</td>\n",
       "    </tr>\n",
       "    <tr>\n",
       "      <th>std</th>\n",
       "      <td>3.559358</td>\n",
       "      <td>4.797057</td>\n",
       "    </tr>\n",
       "    <tr>\n",
       "      <th>min</th>\n",
       "      <td>8.630000</td>\n",
       "      <td>15.687000</td>\n",
       "    </tr>\n",
       "    <tr>\n",
       "      <th>25%</th>\n",
       "      <td>11.895250</td>\n",
       "      <td>18.716750</td>\n",
       "    </tr>\n",
       "    <tr>\n",
       "      <th>50%</th>\n",
       "      <td>14.356500</td>\n",
       "      <td>21.017500</td>\n",
       "    </tr>\n",
       "    <tr>\n",
       "      <th>75%</th>\n",
       "      <td>16.200750</td>\n",
       "      <td>24.051500</td>\n",
       "    </tr>\n",
       "    <tr>\n",
       "      <th>max</th>\n",
       "      <td>22.328000</td>\n",
       "      <td>35.255000</td>\n",
       "    </tr>\n",
       "  </tbody>\n",
       "</table>\n",
       "</div>"
      ],
      "text/plain": [
       "       Congruent  Incongruent\n",
       "count  24.000000    24.000000\n",
       "mean   14.051125    22.015917\n",
       "std     3.559358     4.797057\n",
       "min     8.630000    15.687000\n",
       "25%    11.895250    18.716750\n",
       "50%    14.356500    21.017500\n",
       "75%    16.200750    24.051500\n",
       "max    22.328000    35.255000"
      ]
     },
     "execution_count": 3,
     "metadata": {},
     "output_type": "execute_result"
    }
   ],
   "source": [
    "# Generate descriptive statistics of dataset\n",
    "stroopdata.describe()"
   ]
  },
  {
   "cell_type": "markdown",
   "metadata": {},
   "source": [
    "The stroopdata dataset has 24 observations. The *mean* shows the central value of all data in that column. The *standard deviation (std)* is a measure to quantify the amount of variation in the data by expressing how much the datapoints in a column differ from the mean value of that column.\n",
    "<br/>"
   ]
  },
  {
   "cell_type": "markdown",
   "metadata": {},
   "source": [
    "**(4) Provide one or two visualizations that show the distribution of the sample data. Write one or two sentences noting what you observe about the plot or plots.**"
   ]
  },
  {
   "cell_type": "code",
   "execution_count": 4,
   "metadata": {},
   "outputs": [
    {
     "name": "stdout",
     "output_type": "stream",
     "text": [
      "Frequency distribution of Congruent data:\n"
     ]
    },
    {
     "data": {
      "image/png": "[encoded data removed]",
      "text/plain": [
       "<matplotlib.figure.Figure at 0x7f9911072208>"
      ]
     },
     "metadata": {
      "needs_background": "light"
     },
     "output_type": "display_data"
    },
    {
     "name": "stdout",
     "output_type": "stream",
     "text": [
      "Frequency distribution of Incongruent data:\n"
     ]
    },
    {
     "data": {
      "image/png": "[encoded data removed]",
      "text/plain": [
       "<matplotlib.figure.Figure at 0x7f9944b137b8>"
      ]
     },
     "metadata": {
      "needs_background": "light"
     },
     "output_type": "display_data"
    }
   ],
   "source": [
    "# Frequency distribution of Congruent data (histogram)\n",
    "# Reference: https://stackoverflow.com/questions/16180946/drawing-average-line-in-histogram-matplotlib\n",
    "print(\"Frequency distribution of Congruent data:\")\n",
    "stroopdata.Congruent.plot.hist(bins = 6)\n",
    "plt.ylabel('Number of Participants')\n",
    "plt.xlabel('Response Time (seconds)')\n",
    "plt.axvline(stroopdata.Congruent.mean(), color = 'black', linestyle = 'dashed', linewidth = 1)\n",
    "plt.show()\n",
    "\n",
    "# Frequency distribution of Incongruent data (histogram)\n",
    "print(\"Frequency distribution of Incongruent data:\")\n",
    "stroopdata.Incongruent.plot.hist(bins = 6)\n",
    "plt.ylabel('Number of Participants')\n",
    "plt.xlabel('Response Time (seconds)')\n",
    "plt.axvline(stroopdata.Incongruent.mean(), color = 'black', linestyle = 'dashed', linewidth = 1)\n",
    "plt.show()"
   ]
  },
  {
   "cell_type": "markdown",
   "metadata": {},
   "source": [
    "The two histograms above show the frequency distribution of the congruent and incongruent variables. The dashed black lines represent the mean. We want to look at the shape of the distribution to understand which statistical test is most suitable for this data. The assumption of normality needs to be checked for many statistical procedures, specifically parametric tests, because their validity depends on it ([source](https://www.ncbi.nlm.nih.gov/pmc/articles/PMC3693611/)). Both graphs appear to have a slightly right-skewed (positive) distribution, except for two outliers in the incongruent data."
   ]
  },
  {
   "cell_type": "code",
   "execution_count": 5,
   "metadata": {},
   "outputs": [
    {
     "name": "stdout",
     "output_type": "stream",
     "text": [
      "Dataframe after removing outliers with index 14 and 19:\n"
     ]
    },
    {
     "data": {
      "text/html": [
       "<div>\n",
       "<style>\n",
       "    .dataframe thead tr:only-child th {\n",
       "        text-align: right;\n",
       "    }\n",
       "\n",
       "    .dataframe thead th {\n",
       "        text-align: left;\n",
       "    }\n",
       "\n",
       "    .dataframe tbody tr th {\n",
       "        vertical-align: top;\n",
       "    }\n",
       "</style>\n",
       "<table border=\"1\" class=\"dataframe\">\n",
       "  <thead>\n",
       "    <tr style=\"text-align: right;\">\n",
       "      <th></th>\n",
       "      <th>Congruent</th>\n",
       "      <th>Incongruent</th>\n",
       "    </tr>\n",
       "  </thead>\n",
       "  <tbody>\n",
       "    <tr>\n",
       "      <th>0</th>\n",
       "      <td>12.079</td>\n",
       "      <td>19.278</td>\n",
       "    </tr>\n",
       "    <tr>\n",
       "      <th>1</th>\n",
       "      <td>16.791</td>\n",
       "      <td>18.741</td>\n",
       "    </tr>\n",
       "    <tr>\n",
       "      <th>2</th>\n",
       "      <td>9.564</td>\n",
       "      <td>21.214</td>\n",
       "    </tr>\n",
       "    <tr>\n",
       "      <th>3</th>\n",
       "      <td>8.630</td>\n",
       "      <td>15.687</td>\n",
       "    </tr>\n",
       "    <tr>\n",
       "      <th>4</th>\n",
       "      <td>14.669</td>\n",
       "      <td>22.803</td>\n",
       "    </tr>\n",
       "    <tr>\n",
       "      <th>5</th>\n",
       "      <td>12.238</td>\n",
       "      <td>20.878</td>\n",
       "    </tr>\n",
       "    <tr>\n",
       "      <th>6</th>\n",
       "      <td>14.692</td>\n",
       "      <td>24.572</td>\n",
       "    </tr>\n",
       "    <tr>\n",
       "      <th>7</th>\n",
       "      <td>8.987</td>\n",
       "      <td>17.394</td>\n",
       "    </tr>\n",
       "    <tr>\n",
       "      <th>8</th>\n",
       "      <td>9.401</td>\n",
       "      <td>20.762</td>\n",
       "    </tr>\n",
       "    <tr>\n",
       "      <th>9</th>\n",
       "      <td>14.480</td>\n",
       "      <td>26.282</td>\n",
       "    </tr>\n",
       "    <tr>\n",
       "      <th>10</th>\n",
       "      <td>22.328</td>\n",
       "      <td>24.524</td>\n",
       "    </tr>\n",
       "    <tr>\n",
       "      <th>11</th>\n",
       "      <td>15.298</td>\n",
       "      <td>18.644</td>\n",
       "    </tr>\n",
       "    <tr>\n",
       "      <th>12</th>\n",
       "      <td>15.073</td>\n",
       "      <td>17.510</td>\n",
       "    </tr>\n",
       "    <tr>\n",
       "      <th>13</th>\n",
       "      <td>16.929</td>\n",
       "      <td>20.330</td>\n",
       "    </tr>\n",
       "    <tr>\n",
       "      <th>15</th>\n",
       "      <td>12.130</td>\n",
       "      <td>22.158</td>\n",
       "    </tr>\n",
       "    <tr>\n",
       "      <th>16</th>\n",
       "      <td>18.495</td>\n",
       "      <td>25.139</td>\n",
       "    </tr>\n",
       "    <tr>\n",
       "      <th>17</th>\n",
       "      <td>10.639</td>\n",
       "      <td>20.429</td>\n",
       "    </tr>\n",
       "    <tr>\n",
       "      <th>18</th>\n",
       "      <td>11.344</td>\n",
       "      <td>17.425</td>\n",
       "    </tr>\n",
       "    <tr>\n",
       "      <th>20</th>\n",
       "      <td>12.944</td>\n",
       "      <td>23.894</td>\n",
       "    </tr>\n",
       "    <tr>\n",
       "      <th>21</th>\n",
       "      <td>14.233</td>\n",
       "      <td>17.960</td>\n",
       "    </tr>\n",
       "    <tr>\n",
       "      <th>22</th>\n",
       "      <td>19.710</td>\n",
       "      <td>22.058</td>\n",
       "    </tr>\n",
       "    <tr>\n",
       "      <th>23</th>\n",
       "      <td>16.004</td>\n",
       "      <td>21.157</td>\n",
       "    </tr>\n",
       "  </tbody>\n",
       "</table>\n",
       "</div>"
      ],
      "text/plain": [
       "    Congruent  Incongruent\n",
       "0      12.079       19.278\n",
       "1      16.791       18.741\n",
       "2       9.564       21.214\n",
       "3       8.630       15.687\n",
       "4      14.669       22.803\n",
       "5      12.238       20.878\n",
       "6      14.692       24.572\n",
       "7       8.987       17.394\n",
       "8       9.401       20.762\n",
       "9      14.480       26.282\n",
       "10     22.328       24.524\n",
       "11     15.298       18.644\n",
       "12     15.073       17.510\n",
       "13     16.929       20.330\n",
       "15     12.130       22.158\n",
       "16     18.495       25.139\n",
       "17     10.639       20.429\n",
       "18     11.344       17.425\n",
       "20     12.944       23.894\n",
       "21     14.233       17.960\n",
       "22     19.710       22.058\n",
       "23     16.004       21.157"
      ]
     },
     "execution_count": 5,
     "metadata": {},
     "output_type": "execute_result"
    }
   ],
   "source": [
    "# Remove rows with index 14 and 19 that are outliers \n",
    "stroopdata.drop([14, 19], inplace = True)\n",
    "\n",
    "print(\"Dataframe after removing outliers with index 14 and 19:\")\n",
    "stroopdata"
   ]
  },
  {
   "cell_type": "markdown",
   "metadata": {},
   "source": [
    "To fulfill the condition that the dependent variable should not contain any outliers to use the method of a dependent t-test, rows with index 14 and 19, which represent the outliers in the Incongruent data, have been removed."
   ]
  },
  {
   "cell_type": "code",
   "execution_count": 6,
   "metadata": {},
   "outputs": [
    {
     "name": "stdout",
     "output_type": "stream",
     "text": [
      "Frequency distribution of Congruent data transformed by log10:\n"
     ]
    },
    {
     "data": {
      "image/png": "[encoded data removed]",
      "text/plain": [
       "<matplotlib.figure.Figure at 0x7f990ef58908>"
      ]
     },
     "metadata": {
      "needs_background": "light"
     },
     "output_type": "display_data"
    },
    {
     "name": "stdout",
     "output_type": "stream",
     "text": [
      "Frequency distribution of Incongruent data transformed by log10:\n"
     ]
    },
    {
     "data": {
      "image/png": "[encoded data removed]",
      "text/plain": [
       "<matplotlib.figure.Figure at 0x7f990ef1e5c0>"
      ]
     },
     "metadata": {
      "needs_background": "light"
     },
     "output_type": "display_data"
    },
    {
     "name": "stdout",
     "output_type": "stream",
     "text": [
      "Shapiro-Wilk Test for normality\n",
      "\n",
      "Congruent data:\n",
      "Statistics=0.966, p=0.618\n",
      "Sample looks normal (fail to reject H0)\n",
      "\n",
      "Incongruent data:\n",
      "Statistics=0.972, p=0.767\n",
      "Sample looks normal (fail to reject H0)\n"
     ]
    }
   ],
   "source": [
    "# Frequency distribution of Congruent data transformed by log10 (histogram)\n",
    "# Reference: https://stackoverflow.com/questions/47850202/plotting-a-histogram-on-a-log-scale-with-matplotlib?rq=1\n",
    "print(\"Frequency distribution of Congruent data transformed by log10:\")\n",
    "np.log10(stroopdata.Congruent).plot.hist(bins = 6)\n",
    "plt.ylabel('Number of Participants')\n",
    "plt.xlabel('Response Time (seconds)')\n",
    "plt.axvline(np.log10(stroopdata.Congruent).mean(), color = 'k', linestyle = 'dashed', linewidth = 1)\n",
    "plt.show()\n",
    "\n",
    "# Frequency distribution of Incongruent data transformed by log10 (histogram)\n",
    "print(\"Frequency distribution of Incongruent data transformed by log10:\")\n",
    "np.log10(stroopdata.Incongruent).plot.hist(bins = 6)\n",
    "plt.ylabel('Number of Participants')\n",
    "plt.xlabel('Response Time (seconds)')\n",
    "plt.axvline(np.log10(stroopdata.Incongruent).mean(), color = 'k', linestyle = 'dashed', linewidth = 1)\n",
    "plt.show()\n",
    "\n",
    "# Shapiro-Wilk Test (normality test) - congruent data:\n",
    "# Reference: https://machinelearningmastery.com/a-gentle-introduction-to-normality-tests-in-python/\n",
    "print(\"Shapiro-Wilk Test for normality\")\n",
    "print(\"\")\n",
    "\n",
    "print(\"Congruent data:\")\n",
    "stat, p = shapiro(stroopdata.Congruent)\n",
    "print('Statistics=%.3f, p=%.3f' % (stat, p))\n",
    "# interpret\n",
    "alpha = 0.05\n",
    "if p > alpha:\n",
    "\tprint('Sample looks normal (fail to reject H0)')\n",
    "else:\n",
    "\tprint('Sample does not look normal (reject H0)')\n",
    "\n",
    "print(\"\")\n",
    "# Shapiro-Wilk Test (normality test) - incongruent data:\n",
    "print(\"Incongruent data:\")\n",
    "stat, p = shapiro(stroopdata.Incongruent)\n",
    "print('Statistics=%.3f, p=%.3f' % (stat, p))\n",
    "# interpret\n",
    "alpha = 0.05\n",
    "if p > alpha:\n",
    "\tprint('Sample looks normal (fail to reject H0)')\n",
    "else:\n",
    "\tprint('Sample does not look normal (reject H0)')"
   ]
  },
  {
   "cell_type": "markdown",
   "metadata": {},
   "source": [
    "The two graphs show histograms of the Congruent and Incongruent columns but transformed by log10. A log tranformation can be used on a right-skewed distribution to help it fit a more normal distribution ([source](https://www.statisticshowto.datasciencecentral.com/probability-and-statistics/skewed-distribution/)). The log transformed data appears to show a slightly more normal distribution. We want the data to fulfill the condition of normal distribution to continue with the chosen test method.\n",
    "<br/>\n",
    "\n",
    "Last, we have the Shapiro-Wilk Test that tests the null hypothesis (H0) that a sample comes from a normally distributed population ([source](https://en.wikipedia.org/wiki/Shapiro%E2%80%93Wilk_test)). This is supplementary to the visual assesment of normality. The chosen alpha level for this test is 0.05 and if the p-value is greater than this value, the null hypothesis that the data came from a normally distributed population can not be rejected. After removing the outliers, it appears that the data is normally distributed and suitable for running a parametric statistical test.\n",
    "<br/>"
   ]
  },
  {
   "cell_type": "markdown",
   "metadata": {},
   "source": [
    "**(5)  Now, perform the statistical test and report your results. What is your confidence level or Type I error associated with your test? What is your conclusion regarding the hypotheses you set up? Did the results match up with your expectations?** *Hint: Think about what is being measured on each individual, and what statistic best captures how an individual reacts in each environment.*"
   ]
  },
  {
   "cell_type": "code",
   "execution_count": 7,
   "metadata": {},
   "outputs": [
    {
     "name": "stdout",
     "output_type": "stream",
     "text": [
      "       Congruent  Incongruent\n",
      "count  22.000000    22.000000\n",
      "mean   13.939000    20.856318\n",
      "std     3.592773     2.876923\n",
      "min     8.630000    15.687000\n",
      "25%    11.527750    18.668250\n",
      "50%    14.356500    20.820000\n",
      "75%    15.827500    22.641750\n",
      "max    22.328000    26.282000\n",
      "\n",
      "Difference in mean time (μ) of Congruent and Incongruent data (seconds):\n",
      "6.91731818182\n",
      "\n",
      "Alpha level (α): 0.05\n",
      "Degrees of freedom (df): 21\n",
      "T critical value (t*): 1.721\n",
      "\n",
      "Dependent t-test:\n",
      "Ttest_relResult(statistic=9.5410999084921784, pvalue=4.3818916259231317e-09)\n",
      "\n",
      "Divide the p-value in 2 to get the p-value for a one-tailed test:\n",
      "2.190945812961566e-09\n"
     ]
    }
   ],
   "source": [
    "# Generate descriptive statistics of dataset\n",
    "print(stroopdata.describe())\n",
    "\n",
    "# Calculate difference in mean time between incongruent and incongruent data\n",
    "print(\"\")\n",
    "print(\"Difference in mean time (μ) of Congruent and Incongruent data (seconds):\")\n",
    "print(stroopdata.Incongruent.mean()-stroopdata.Congruent.mean())\n",
    "\n",
    "print(\"\")\n",
    "print(\"Alpha level (α): 0.05\")\n",
    "print(\"Degrees of freedom (df):\", 22-1)\n",
    "print(\"T critical value (t*): 1.721\") # Reference: https://i.stack.imgur.com/EYE7c.jpg\n",
    "\n",
    "# Paired sample (dependent) t-test\n",
    "# Reference: https://pythonfordatascience.org/paired-samples-t-test-python/\n",
    "print(\"\")\n",
    "print(\"Dependent t-test:\")\n",
    "print(stats.ttest_rel(stroopdata['Incongruent'], stroopdata['Congruent']))\n",
    "\n",
    "# Adjust p-value for a one-tailed test\n",
    "# Reference: https://stackoverflow.com/questions/15984221/how-to-perform-two-sample-one-tailed-t-test-with-numpy-scipy\n",
    "print(\"\")\n",
    "print(\"Divide the p-value in 2 to get the p-value for a one-tailed test:\")\n",
    "print(0.000000004381891625923132/2)"
   ]
  },
  {
   "cell_type": "markdown",
   "metadata": {},
   "source": [
    "At the confidence level of 95% (α = 0.05) with 21 degrees of freedom, the t critical value is 1.72. The calculated t-statistic for the difference in means of the response time of the incongruent and congruent words test data is 9.54. The t-statistic is higher than the t critical value and we can reject the null hypothesis (H0). It is unlikely that the difference in mean time of 6.92 seconds between the congruent and incongruent words test data is found if the two means are the same (if μc = μi). The small p-value of 0.00000000219 indicates that the evidence to reject our null hypothesis is very strong and our test is statistically significant.\n",
    "<br/>\n",
    "\n",
    "To summarize, a one-tailed dependent t-test was used to analyze if the time taken to complete a word test (in seconds) is longer when the words in the test are incongruent compared to congruent. The mean time of the congruent words test is 13.94 seconds compared to the mean time of the incongruent words test, which is 20.86 seconds. There is a statistically significant increase in response time of the incongruent words test to the congruent (t(21)=9.54, p=0.00000000219) of 6.92 seconds. This agrees with the notion we had before conducting the test that it takes longer to name the color of a word when the color of the ink is different to the name of the color.\n",
    "<br/>"
   ]
  },
  {
   "cell_type": "markdown",
   "metadata": {},
   "source": [
    "**(6) Optional: What do you think is responsible for the effects observed? Can you think of an alternative or similar task that would result in a similar effect? Some research about the problem will be helpful for thinking about these two questions!**"
   ]
  },
  {
   "cell_type": "markdown",
   "metadata": {},
   "source": [
    "There are several theories used to explain the Stroop effect, one of those is the *Processing speed theory*. The processing speed theory suggests there is a lag in the brain's ability to recognize the color of the word since the brain reads words faster than it recognizes colors, based on the idea that word processing is significantly faster than color processing ([source](https://en.wikipedia.org/wiki/Stroop_effect#Theories)). I experienced this myself when doing the Stroop test, the actual word was the first thing I noticed and I had to actively stop looking at the letters in the word to be able to recognise the color of it, almost as if purposely looking at the word in the periphery to make it blurry to be able to recognise the color faster and ignoring the meaning of the word.\n",
    "<br/>\n",
    "\n",
    "A similar theory to the Stroop Effect might be the *Simon Effect*. The Simon effect is the finding that reaction times are usually faster and more accurate when the stimulus occurs in the same relative location as the response, even if the stimulus location is irrelevant to the task ([source](https://en.wikipedia.org/wiki/Simon_effect)). This effect does not involve the notion that word processing is faster than color processing but still addresses as similar phenomenon of processing speed where we have an automatic tendency to 'react towards the source of the stimulation'. The same way we automatically appear to process words faster than colors, we will automatically process a task faster if there is a match between stimulus and response features (for example, when the indicator light for the right-sided engine of an aircraft is located to the right on the control panel and not to the left).\n",
    "<br/>"
   ]
  },
  {
   "cell_type": "markdown",
   "metadata": {},
   "source": [
    "**References:**\n",
    "<br/>\n",
    "http://blog.minitab.com/blog/adventures-in-statistics-2/understanding-hypothesis-tests-significance-levels-alpha-and-p-values-in-statistics\n",
    "\n",
    "https://en.wikipedia.org/wiki/Stroop_effect\n",
    "\n",
    "http://blog.minitab.com/blog/adventures-in-statistics-2/choosing-between-a-nonparametric-test-and-a-parametric-test\n",
    "\n",
    "https://stats.idre.ucla.edu/other/mult-pkg/faq/general/faq-what-are-the-differences-between-one-tailed-and-two-tailed-tests/\n",
    "\n",
    "https://statistics.laerd.com/statistical-guides/dependent-t-test-statistical-guide.php\n",
    "\n",
    "https://statistics.laerd.com/spss-tutorials/dependent-t-test-using-spss-statistics.php\n",
    "\n",
    "https://stackoverflow.com/questions/16180946/drawing-average-line-in-histogram-matplotlib\n",
    "\n",
    "https://www.ncbi.nlm.nih.gov/pmc/articles/PMC3693611/\n",
    "\n",
    "https://stackoverflow.com/questions/47850202/plotting-a-histogram-on-a-log-scale-with-matplotlib?rq=1\n",
    "\n",
    "https://machinelearningmastery.com/a-gentle-introduction-to-normality-tests-in-python/\n",
    "\n",
    "https://www.statisticshowto.datasciencecentral.com/probability-and-statistics/skewed-distribution/\n",
    "\n",
    "https://en.wikipedia.org/wiki/Shapiro%E2%80%93Wilk_test\n",
    "\n",
    "https://i.stack.imgur.com/EYE7c.jpg\n",
    "\n",
    "https://pythonfordatascience.org/paired-samples-t-test-python/\n",
    "\n",
    "https://stackoverflow.com/questions/15984221/how-to-perform-two-sample-one-tailed-t-test-with-numpy-scipy\n",
    "\n",
    "https://en.wikipedia.org/wiki/Simon_effect"
   ]
  }
 ],
 "metadata": {
  "kernelspec": {
   "display_name": "Python 3",
   "language": "python",
   "name": "python3"
  },
  "language_info": {
   "codemirror_mode": {
    "name": "ipython",
    "version": 3
   },
   "file_extension": ".py",
   "mimetype": "text/x-python",
   "name": "python",
   "nbconvert_exporter": "python",
   "pygments_lexer": "ipython3",
   "version": "3.6.3"
  }
 },
 "nbformat": 4,
 "nbformat_minor": 2
}
